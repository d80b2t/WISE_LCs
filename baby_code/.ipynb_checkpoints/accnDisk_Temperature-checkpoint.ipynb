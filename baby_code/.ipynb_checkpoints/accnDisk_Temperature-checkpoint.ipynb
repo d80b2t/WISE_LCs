{
 "cells": [
  {
   "cell_type": "code",
   "execution_count": 1,
   "metadata": {
    "collapsed": true
   },
   "outputs": [],
   "source": [
    "## www-astro.physics.ox.ac.uk/~podsi/_solutions_bonn.pdf\n",
    "## Question 2. \n",
    "## How the heck do you get r(T_max) = 49/36 r_0 ??!!"
   ]
  },
  {
   "cell_type": "code",
   "execution_count": 2,
   "metadata": {
    "collapsed": true
   },
   "outputs": [],
   "source": [
    "import math\n",
    "import numpy as np\n",
    "import matplotlib as plt"
   ]
  },
  {
   "cell_type": "code",
   "execution_count": 5,
   "metadata": {},
   "outputs": [],
   "source": [
    "Msun=1.99e30 #kg per solar mass\n",
    "Rsun=6.95e8 #meters per solar radius\n",
    "G=6.67e-11\n",
    "c=3e8\n",
    "\n",
    "sigma_SB=5.67e-8 #stefan-boltzmann const\n",
    "yr=3.15e7 #seconds per year\n",
    "pc=3.086e16 #meters per parsec\n",
    "AU=1.496e11 #meters per AU\n",
    "h=6.626e-34 #planck const\n",
    "kB=1.38e-23 #boltzmann const\n",
    "m_p=1.67e-27 #mass of proton\n",
    "sigma_T=6.65e-29 #Thomson xsec\n",
    "pi=math.pi"
   ]
  },
  {
   "cell_type": "code",
   "execution_count": null,
   "metadata": {
    "collapsed": true
   },
   "outputs": [],
   "source": [
    " T_0 ≡ ((3.*G*M*M_dot) / (8.* pi * sigma_SB* (r_0**3)))**(1/4.)"
   ]
  },
  {
   "cell_type": "code",
   "execution_count": null,
   "metadata": {
    "collapsed": true
   },
   "outputs": [],
   "source": [
    "Teff = T_0 * ((r_0 /r)^(3/4.)) * (sqrt(1− (r_0/r)))"
   ]
  },
  {
   "cell_type": "code",
   "execution_count": null,
   "metadata": {
    "collapsed": true
   },
   "outputs": [],
   "source": []
  }
 ],
 "metadata": {
  "anaconda-cloud": {},
  "kernelspec": {
   "display_name": "Python [default]",
   "language": "python",
   "name": "python3"
  },
  "language_info": {
   "codemirror_mode": {
    "name": "ipython",
    "version": 3
   },
   "file_extension": ".py",
   "mimetype": "text/x-python",
   "name": "python",
   "nbconvert_exporter": "python",
   "pygments_lexer": "ipython3",
   "version": "3.5.2"
  }
 },
 "nbformat": 4,
 "nbformat_minor": 2
}
