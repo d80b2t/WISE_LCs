{
 "cells": [
  {
   "cell_type": "code",
   "execution_count": 2,
   "metadata": {},
   "outputs": [],
   "source": [
    "from astropy.table import Table\n",
    "from astropy.io import ascii\n",
    "import numpy as np\n",
    "import numpy.ma as ma"
   ]
  },
  {
   "cell_type": "code",
   "execution_count": 3,
   "metadata": {},
   "outputs": [
    {
     "data": {
      "text/plain": [
       "'\\nThe FITS file that summarizes these 248 objects is at:\\n    http://portal.nersc.gov/project/cosmo/temp/ameisner/dr3_wise_lc_sample.fits.gz\\nex=1 is the WISE light curve metrics that I computed for each source\\nex=2 is the DECaLS information for each source\\nex=3 is the SDSS information for each source\\n-Aaron (email 25th Feb, 2017)\\n'"
      ]
     },
     "execution_count": 3,
     "metadata": {},
     "output_type": "execute_result"
    }
   ],
   "source": [
    "'''\n",
    "The FITS file that summarizes these 248 objects is at:\n",
    "    http://portal.nersc.gov/project/cosmo/temp/ameisner/dr3_wise_lc_sample.fits.gz\n",
    "ex=1 is the WISE light curve metrics that I computed for each source\n",
    "ex=2 is the DECaLS information for each source\n",
    "ex=3 is the SDSS information for each source\n",
    "-Aaron (email 25th Feb, 2017)\n",
    "'''"
   ]
  },
  {
   "cell_type": "code",
   "execution_count": 4,
   "metadata": {
    "collapsed": true
   },
   "outputs": [],
   "source": [
    "data_path = \"/cos_pc19a_npr/data/WISE/LCs/\"\n",
    "#data_file = \"dr3_wise_lc_metrics_all_qso.fits\" ##200K QSOs!!!\n",
    "data_file = \"dr3_wise_lc_sample.fits\"\n",
    "data_in = data_path+data_file "
   ]
  },
  {
   "cell_type": "code",
   "execution_count": 5,
   "metadata": {
    "collapsed": true
   },
   "outputs": [],
   "source": [
    "wise_lcs = Table.read(data_in, hdu=1)\n",
    "decals = Table.read(data_in, hdu=2)\n",
    "sdss= Table.read(data_in, hdu=3)"
   ]
  },
  {
   "cell_type": "code",
   "execution_count": 6,
   "metadata": {},
   "outputs": [
    {
     "data": {
      "text/plain": [
       "248"
      ]
     },
     "execution_count": 6,
     "metadata": {},
     "output_type": "execute_result"
    }
   ],
   "source": [
    "len(sdss)"
   ]
  },
  {
   "cell_type": "code",
   "execution_count": 7,
   "metadata": {
    "collapsed": true
   },
   "outputs": [],
   "source": [
    "## Things/columns I want... :-) \n",
    "## From SDSS\n",
    "name = sdss['SDSSJ']\n",
    "ra = sdss['RA']\n",
    "dec = sdss['DEC']\n",
    "redshift = sdss['Z']\n",
    "mjd = sdss['MJD']\n",
    "fiber = sdss['FIBER']\n",
    "plate = sdss['PLATE']\n",
    "#u_flux = sdss['U_FLUX']\n"
   ]
  },
  {
   "cell_type": "code",
   "execution_count": 8,
   "metadata": {
    "collapsed": true
   },
   "outputs": [],
   "source": [
    "## From WISE\n",
    "pearson_r = wise_lcs['PEARSON_R']\n",
    "w1_flux_best = wise_lcs['BEST_FLUX_W1']\n",
    "w2_flux_best = wise_lcs['BEST_FLUX_W2']\n",
    "w1_flux_max = wise_lcs['FLUX_MAX_W1']\n",
    "w2_flux_max = wise_lcs['FLUX_MAX_W2']\n",
    "w1_flux_min = wise_lcs['FLUX_MIN_W1']\n",
    "w2_flux_min = wise_lcs['FLUX_MIN_W2']\n",
    "w1_mag_range= wise_lcs['MAG_RANGE_W1']\n",
    "w2_mag_range= wise_lcs['MAG_RANGE_W2']\n",
    "good_epoch_mask = wise_lcs['GOOD_EPOCH_MASK']\n",
    "rising_w1 = wise_lcs['RISING_W1']\n",
    "rising_w2 = wise_lcs['RISING_W2']\n",
    "\n",
    "## N_EPOCH, NBAD_W1, NBAD_W2, MONO_W1, MONO_W2, CHI2_W1, CHI2_W2, \n",
    "## RCHI2_W1, RCHI2_W2, MAG_RANGE_W1\tMAG_RANGE_W2, GOOD_EPOCH_MASK [5]\n",
    "## RISING_W1, FALLING_W1, RISING_W2, FALLING_W2"
   ]
  },
  {
   "cell_type": "code",
   "execution_count": 9,
   "metadata": {
    "collapsed": true
   },
   "outputs": [],
   "source": [
    "## Not sure about good_epoch_mask, will have to think... :-) \n",
    "data=[name, ra, dec, redshift, plate, fiber, mjd, pearson_r, w1_flux_best, w2_flux_best, w1_flux_max, w2_flux_max, \\\n",
    "     w1_flux_min, w2_flux_min, w1_mag_range, w2_mag_range, rising_w1, rising_w2]\n",
    "#data"
   ]
  },
  {
   "cell_type": "code",
   "execution_count": 10,
   "metadata": {
    "collapsed": true
   },
   "outputs": [],
   "source": [
    "ascii.write([ra, dec], 'WISE_LC_ChangingQuasarsSample_table_temp.text', names=['ra', 'dec'],overwrite=True)"
   ]
  },
  {
   "cell_type": "code",
   "execution_count": 11,
   "metadata": {
    "collapsed": true
   },
   "outputs": [],
   "source": [
    "ascii.write(data, 'WISE_LC_ChangingQuasarsSample_table_temp.tex',format='latex',overwrite=True) "
   ]
  },
  {
   "cell_type": "code",
   "execution_count": 12,
   "metadata": {},
   "outputs": [
    {
     "data": {
      "text/plain": [
       "18"
      ]
     },
     "execution_count": 12,
     "metadata": {},
     "output_type": "execute_result"
    }
   ],
   "source": [
    "len(data)"
   ]
  },
  {
   "cell_type": "code",
   "execution_count": null,
   "metadata": {
    "collapsed": true
   },
   "outputs": [],
   "source": []
  },
  {
   "cell_type": "code",
   "execution_count": null,
   "metadata": {
    "collapsed": true
   },
   "outputs": [],
   "source": []
  }
 ],
 "metadata": {
  "anaconda-cloud": {},
  "kernelspec": {
   "display_name": "Python [default]",
   "language": "python",
   "name": "python3"
  },
  "language_info": {
   "codemirror_mode": {
    "name": "ipython",
    "version": 3
   },
   "file_extension": ".py",
   "mimetype": "text/x-python",
   "name": "python",
   "nbconvert_exporter": "python",
   "pygments_lexer": "ipython3",
   "version": "3.5.2"
  }
 },
 "nbformat": 4,
 "nbformat_minor": 2
}
