{
 "cells": [
  {
   "cell_type": "code",
   "execution_count": 1,
   "metadata": {
    "collapsed": true
   },
   "outputs": [],
   "source": [
    "from astropy.table import Table\n",
    "import fitsio"
   ]
  },
  {
   "cell_type": "code",
   "execution_count": 4,
   "metadata": {},
   "outputs": [],
   "source": [
    "## From:: http://portal.nersc.gov/project/cosmo/data/legacysurvey/dr3/external/\n",
    "fname_decals = '/cos_pc19a_npr/data/DECaLS/legacysurvey/dr3/external/survey-dr3-specObj-dr13.fits'\n",
    "\n",
    "#str = Table.read('fname_decals')\n",
    "\n",
    "## http://www.sdss3.org/dr9/software/fitsfiles.php\n",
    "## columns = ['PLATE', 'MJD', 'FIBERID', 'Z', 'ZWARNING', 'Z_ERR']\n",
    "columns = ['OBJID']\n",
    "str = fitsio.read(fname_decals, columns=columns)"
   ]
  },
  {
   "cell_type": "code",
   "execution_count": 5,
   "metadata": {},
   "outputs": [
    {
     "name": "stdout",
     "output_type": "stream",
     "text": [
      "4411200\n"
     ]
    }
   ],
   "source": [
    "print(len(str))"
   ]
  },
  {
   "cell_type": "code",
   "execution_count": 8,
   "metadata": {},
   "outputs": [],
   "source": [
    "## Read in sdss specobj catalog\n",
    "fname_sdss = '/cos_pc19a_npr/data/SDSS/DR13/specObj-dr13.fits'\n",
    "columns=['CLASS']\n",
    "sdss = fitsio.read(fname_sdss, columns=columns) "
   ]
  },
  {
   "cell_type": "code",
   "execution_count": 9,
   "metadata": {},
   "outputs": [
    {
     "name": "stdout",
     "output_type": "stream",
     "text": [
      "4411200\n"
     ]
    }
   ],
   "source": [
    "print(len(sdss))"
   ]
  },
  {
   "cell_type": "code",
   "execution_count": null,
   "metadata": {
    "collapsed": true
   },
   "outputs": [],
   "source": [
    "# keep only rows of dr3 catalog that are matched to a class GALAXY object\n",
    "\n",
    "## IDL...\n",
    "#w = where((str.objid NE -1) AND (strtrim(sdss.class,2) EQ 'GALAXY'))\n",
    "#str = str[w]\n",
    "\n"
   ]
  },
  {
   "cell_type": "code",
   "execution_count": null,
   "metadata": {
    "collapsed": true
   },
   "outputs": [],
   "source": [
    "## Require at least four epochs of wise forced photometry, each with\n",
    "## > 3 contributing exposures (in both bands ?)\n",
    "\n",
    "wise_lc_nobs = str.wise_lc_nobs\n",
    "\n",
    "wise_lc_nobs_w1 = reform(wise_lc_nobs[*, 0, *], 5, n_elements(str))\n",
    "wise_lc_nobs_w2 = reform(wise_lc_nobs[*, 1, *], 5, n_elements(str))\n",
    "\n",
    "## FRequire >3 contrib exposures in both bands\n",
    "n_good_epoch = total((wise_lc_nobs_w1 GT 3) AND (wise_lc_nobs_w2 GT 3), 1)\n",
    "\n",
    "wkeep = where(n_good_epoch GE 4) ; could try 3 at some point, might be fine\n",
    "\n",
    "str = str[wkeep]\n",
    "\n"
   ]
  }
 ],
 "metadata": {
  "anaconda-cloud": {},
  "kernelspec": {
   "display_name": "Python [default]",
   "language": "python",
   "name": "python3"
  },
  "language_info": {
   "codemirror_mode": {
    "name": "ipython",
    "version": 3
   },
   "file_extension": ".py",
   "mimetype": "text/x-python",
   "name": "python",
   "nbconvert_exporter": "python",
   "pygments_lexer": "ipython3",
   "version": "3.5.2"
  }
 },
 "nbformat": 4,
 "nbformat_minor": 2
}
