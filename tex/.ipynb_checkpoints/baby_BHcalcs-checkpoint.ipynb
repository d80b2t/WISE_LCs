{
 "cells": [
  {
   "cell_type": "code",
   "execution_count": 2,
   "metadata": {
    "collapsed": true
   },
   "outputs": [],
   "source": [
    "from pylab import *\n",
    "from astropy.io import ascii\n",
    "\n",
    "import sys, os, time, string, math, subprocess\n",
    "import numpy as np\n",
    "import matplotlib.pyplot as plt"
   ]
  },
  {
   "cell_type": "code",
   "execution_count": 24,
   "metadata": {
    "collapsed": true
   },
   "outputs": [],
   "source": [
    "## SI units\n",
    "Msun=1.99e30        # kg per solar mass\n",
    "Rsun=6.95e8         # meters per solar radius\n",
    "G=6.67408e-11       # Big G in m^3 kg^-1 s^-2\n",
    "c=3e8               # \n",
    "sigma_SB=5.7e-8     # stefan-boltzmann const\n",
    "yr=3.15e7           # seconds per year\n",
    "pc=3.086e16         # meters per parsec\n",
    "AU=1.496e11         # meters per AU\n",
    "h=6.626e-34         # Planck const\n",
    "kB=1.38e-23         # boltzmann const\n",
    "m_p=1.67e-27        # mass of proton\n",
    "sigma_T=6.65e-29    # Thomson xsec\n",
    "PI=3.1415926        # Yum...\n",
    "m_per_nm=1.0e-9     # meters per nanometer\n",
    "\n",
    "#BEGIN PHYSICAL INPUTS:\n",
    "M_SMBH   = 1.0e8    # mass of supermassive black hole in units of solar masses\n",
    "dotm_edd = 0.01     # accretion rate in units of Eddington accretion \n",
    "R_alt    = 150.0    # outermost radius of altered disk; units of r_g of SMBH\n",
    "epsilon  = 0.1      # radiative efficiency, depends on spin of SMBH, assume 0.1"
   ]
  },
  {
   "cell_type": "code",
   "execution_count": 25,
   "metadata": {
    "collapsed": true
   },
   "outputs": [],
   "source": [
    "r_g=G*M_SMBH*Msun/c**2"
   ]
  },
  {
   "cell_type": "code",
   "execution_count": 26,
   "metadata": {},
   "outputs": [
    {
     "name": "stdout",
     "output_type": "stream",
     "text": [
      "147571324444.44446\n"
     ]
    }
   ],
   "source": [
    "print(r_g)"
   ]
  },
  {
   "cell_type": "code",
   "execution_count": 23,
   "metadata": {},
   "outputs": [
    {
     "name": "stdout",
     "output_type": "stream",
     "text": [
      "0.9864393345216875\n"
     ]
    }
   ],
   "source": [
    "## m in an AU = 1.496e+11\n",
    "print(r_g/1.496e11)"
   ]
  },
  {
   "cell_type": "code",
   "execution_count": null,
   "metadata": {
    "collapsed": true
   },
   "outputs": [],
   "source": []
  }
 ],
 "metadata": {
  "anaconda-cloud": {},
  "kernelspec": {
   "display_name": "Python [default]",
   "language": "python",
   "name": "python3"
  },
  "language_info": {
   "codemirror_mode": {
    "name": "ipython",
    "version": 3
   },
   "file_extension": ".py",
   "mimetype": "text/x-python",
   "name": "python",
   "nbconvert_exporter": "python",
   "pygments_lexer": "ipython3",
   "version": "3.5.2"
  }
 },
 "nbformat": 4,
 "nbformat_minor": 2
}
