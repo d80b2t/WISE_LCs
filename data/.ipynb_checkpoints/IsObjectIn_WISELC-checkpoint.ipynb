{
 "cells": [
  {
   "cell_type": "code",
   "execution_count": 1,
   "metadata": {
    "collapsed": true
   },
   "outputs": [],
   "source": [
    "from astropy.io import fits\n",
    "from astropy import units as u\n",
    "from astropy.coordinates import SkyCoord\n",
    "\n",
    "import numpy as np"
   ]
  },
  {
   "cell_type": "code",
   "execution_count": 2,
   "metadata": {
    "collapsed": true
   },
   "outputs": [],
   "source": [
    "path = '/cos_pc19a_npr/data/WISE/LCs/'\n",
    "filename = 'dr3_wise_lc_metrics_all_qso.fits'\n",
    "datafile = path+filename"
   ]
  },
  {
   "cell_type": "code",
   "execution_count": 3,
   "metadata": {
    "collapsed": true
   },
   "outputs": [],
   "source": [
    "hdulist = fits.open(datafile)\n",
    "#print(hdulist)\n",
    "#hdulist.info()"
   ]
  },
  {
   "cell_type": "code",
   "execution_count": 4,
   "metadata": {},
   "outputs": [
    {
     "data": {
      "text/plain": [
       "array([ 0.6998837 ,  0.12229607,  0.13030258, ...,  0.07274873,\n",
       "        0.23849636,  0.40507913], dtype=float32)"
      ]
     },
     "execution_count": 4,
     "metadata": {},
     "output_type": "execute_result"
    }
   ],
   "source": [
    "data_wise = hdulist[1].data \n",
    "data_wise.columns\n",
    "data_wise['MAG_RANGE_W1']"
   ]
  },
  {
   "cell_type": "code",
   "execution_count": 5,
   "metadata": {
    "collapsed": true
   },
   "outputs": [],
   "source": [
    "data_decals = hdulist[2].data \n",
    "#data_decals.columns\n",
    "#data_decals['WISE_LC_FLUX']"
   ]
  },
  {
   "cell_type": "code",
   "execution_count": 6,
   "metadata": {
    "collapsed": true
   },
   "outputs": [],
   "source": [
    "data_sdss = hdulist[3].data \n",
    "#data_sdss.columns"
   ]
  },
  {
   "cell_type": "code",
   "execution_count": 7,
   "metadata": {},
   "outputs": [
    {
     "data": {
      "text/plain": [
       "numpy.ndarray"
      ]
     },
     "execution_count": 7,
     "metadata": {},
     "output_type": "execute_result"
    }
   ],
   "source": [
    "ra = data_sdss['RA']\n",
    "dec = data_sdss['DEC']\n",
    "type(ra)"
   ]
  },
  {
   "cell_type": "code",
   "execution_count": 8,
   "metadata": {},
   "outputs": [
    {
     "name": "stdout",
     "output_type": "stream",
     "text": [
      "Input object name, with gaps between HMS...11 00 57.70  -00 53 04.500\n"
     ]
    }
   ],
   "source": [
    "#name = input(\"What's the object's name? \")\n",
    "hd1 = input(\"Input object name, with gaps between HMS...\")\n"
   ]
  },
  {
   "cell_type": "code",
   "execution_count": 10,
   "metadata": {},
   "outputs": [
    {
     "name": "stdout",
     "output_type": "stream",
     "text": [
      "Coordinates of HD 1 (SIMBAD):  11 00 57.70  -00 53 04.500\n",
      "Coordinates of HD 1 [deg]: 165.240417  +0.884583\n",
      "Coordinates of HD 1 [sexa]:  11 00 57.700  +0 53 04.500\n"
     ]
    }
   ],
   "source": [
    "from __future__ import print_function, division\n",
    "from PyAstronomy import pyasl\n",
    "\n",
    "# Coordinates of HD 1 from SIMBAD\n",
    "\n",
    "#hd1 = \"00 05 08.83239 +67 50 24.0135\"\n",
    "#hd1 = \"11 00 57.70  -00 53 04.500\"\n",
    "#hd1 = \"23 17 42.60  +00 05 35.1\"\n",
    "\n",
    "print(\"Coordinates of HD 1 (SIMBAD): \", hd1)\n",
    "\n",
    "# Obtain decimal representation\n",
    "ra_in, dec_in = pyasl.coordsSexaToDeg(hd1)\n",
    "print(\"Coordinates of HD 1 [deg]: %010.6f  %+09.6f\" % (ra_in, dec_in))\n",
    "\n",
    "# Convert back into sexagesimal representation\n",
    "sexa = pyasl.coordsDegToSexa(ra_in, dec_in)\n",
    "print(\"Coordinates of HD 1 [sexa]: \", sexa)"
   ]
  },
  {
   "cell_type": "code",
   "execution_count": 11,
   "metadata": {},
   "outputs": [
    {
     "name": "stdout",
     "output_type": "stream",
     "text": [
      "165.24041666666668\n",
      "0.8845833333333333\n"
     ]
    }
   ],
   "source": [
    "print(ra_in)\n",
    "print(dec_in)"
   ]
  },
  {
   "cell_type": "code",
   "execution_count": 16,
   "metadata": {
    "collapsed": true
   },
   "outputs": [],
   "source": [
    "data = data_sdss\n",
    "tol = 0.2\n"
   ]
  },
  {
   "cell_type": "code",
   "execution_count": 17,
   "metadata": {
    "collapsed": true
   },
   "outputs": [],
   "source": [
    "w = data[np.where(\n",
    "    (data['RA']>=(ra_in-tol)) & (data['RA']<=(ra_in+tol)) & (data['DEC']>=(dec_in-tol)) & (data['DEC']<=(dec_in+tol))\n",
    "    )]"
   ]
  },
  {
   "cell_type": "code",
   "execution_count": 18,
   "metadata": {},
   "outputs": [
    {
     "name": "stdout",
     "output_type": "stream",
     "text": [
      "[ ('110103.66+004949.0',  165.26525337,  0.83029626,  3.50700045, 55302, 798, 3836,  -0.1454408 ,   2.25292063,   4.80831385,   5.81168079,   5.38715315, 12, 0)\n",
      " ('110109.25+010348.5',  165.28856026,  1.063476  ,  2.46992207, 55302, 789, 3836,   5.3885479 ,   8.08610344,   8.34215546,   8.99605083,  10.65958405, 12, 0)\n",
      " ('110114.02+010252.2',  165.30844188,  1.04784962,  0.75768495, 55302, 792, 3836,   4.3007021 ,   5.44172144,   6.26429176,   7.42151117,   9.02184391, 12, 0)\n",
      " ('110032.84+004153.7',  165.136873  ,  0.698252  ,  1.5377    , 51908, 410,  277,  17.26632881,  20.21156693,  21.91795349,  26.74237633,  23.79030418,  7, 0)]\n"
     ]
    }
   ],
   "source": [
    "print(w)"
   ]
  },
  {
   "cell_type": "code",
   "execution_count": null,
   "metadata": {
    "collapsed": true
   },
   "outputs": [],
   "source": []
  }
 ],
 "metadata": {
  "anaconda-cloud": {},
  "kernelspec": {
   "display_name": "Python [default]",
   "language": "python",
   "name": "python3"
  },
  "language_info": {
   "codemirror_mode": {
    "name": "ipython",
    "version": 3
   },
   "file_extension": ".py",
   "mimetype": "text/x-python",
   "name": "python",
   "nbconvert_exporter": "python",
   "pygments_lexer": "ipython3",
   "version": "3.5.2"
  }
 },
 "nbformat": 4,
 "nbformat_minor": 2
}
