{
 "cells": [
  {
   "cell_type": "markdown",
   "metadata": {},
   "source": [
    "Using inspiration straight from:\n",
    "http://matplotlib.org/examples/images_contours_and_fields/contourf_log.html\n",
    "and \n",
    "ESCI 386 – Scientific Programming, Analysis and Visualization with Python"
   ]
  },
  {
   "cell_type": "markdown",
   "metadata": {},
   "source": [
    "Also, some key info and code here: https://python4mpia.github.io/intro/quick-tour.html"
   ]
  },
  {
   "cell_type": "markdown",
   "metadata": {},
   "source": [
    "AND, AND AND!!! A **MASSIVE** h/t to Dr. Ian McGreer!!! :-) and https://github.com/imcgreer/simqso"
   ]
  },
  {
   "cell_type": "code",
   "execution_count": 1,
   "metadata": {
    "collapsed": false
   },
   "outputs": [],
   "source": [
    "import matplotlib.pyplot as plt\n",
    "import numpy as np\n",
    "\n",
    "from numpy import ma\n",
    "from matplotlib import colors, ticker, cm\n",
    "from matplotlib.mlab import bivariate_normal\n",
    "\n",
    "from scipy.interpolate import interp1d\n",
    "from scipy.integrate import simps\n",
    "from scipy.constants import c\n",
    "\n",
    "from astropy.io import fits\n",
    "\n",
    "from collections import OrderedDict"
   ]
  },
  {
   "cell_type": "code",
   "execution_count": 2,
   "metadata": {
    "collapsed": false
   },
   "outputs": [],
   "source": [
    "c_Angs = c*1e10\n",
    "#from .sqbase import datadir"
   ]
  },
  {
   "cell_type": "code",
   "execution_count": 3,
   "metadata": {
    "collapsed": true
   },
   "outputs": [],
   "source": [
    "softening_parameter = np.array([1.4,0.9,1.2,1.8,7.4])*1e-10"
   ]
  },
  {
   "cell_type": "code",
   "execution_count": 4,
   "metadata": {
    "collapsed": true
   },
   "outputs": [],
   "source": [
    "# Adjust accordingly... ;-) \n",
    "data_path = '/cos_pc19a_npr/data/WISE/LCs/'\n",
    "data_filename = 'dr3_wise_lc_metrics_all_qso.fits'\n",
    "data_in = data_path+data_filename"
   ]
  },
  {
   "cell_type": "code",
   "execution_count": 5,
   "metadata": {
    "collapsed": true
   },
   "outputs": [],
   "source": [
    "f = fits.open(data_in)   # open a FITS file"
   ]
  },
  {
   "cell_type": "code",
   "execution_count": 6,
   "metadata": {
    "collapsed": false
   },
   "outputs": [],
   "source": [
    "tbdata = f[3].data       # For the SDSS data of the unWISE QSOs, need the 3rd extension..."
   ]
  },
  {
   "cell_type": "code",
   "execution_count": 7,
   "metadata": {
    "collapsed": false
   },
   "outputs": [
    {
     "name": "stdout",
     "output_type": "stream",
     "text": [
      "[ ('000000.66+145828.8',  0.00275643,  14.97467549,  2.49794078, 56268, 595, 6177,  1.65165591,   3.24806833,   4.44151211,   4.91368389,   5.42984772, 12, 0)\n",
      " ('000001.27-020159.7',  0.00531697,  -2.03327329,  1.36035752, 55810, 678, 4354,  5.76684666,  10.19041252,  20.55285072,  26.39566612,  29.05786705, 12, 1)\n",
      " ('000001.37-011930.0',  0.00574621,  -1.32500879,  2.328     , 55810, 646, 4354,  5.31167412,   8.82982349,   8.64618969,   9.48424149,  11.05350018, 12, 0)]\n"
     ]
    }
   ],
   "source": [
    "print(tbdata[:3])         # show the first three rows"
   ]
  },
  {
   "cell_type": "code",
   "execution_count": 8,
   "metadata": {
    "collapsed": true
   },
   "outputs": [],
   "source": [
    "def nmgy2abmag(f,df=None):\n",
    "    ii = np.where(f>0.00001)\n",
    "    mag = 99.99 + np.zeros_like(f)\n",
    "    mag[ii] = 22.5 - 2.5*np.log10(f[ii])\n",
    "    if df is None:\n",
    "        return mag\n",
    "    else:\n",
    "        err = np.zeros_like(mag)\n",
    "        err[ii] = 1.0857 * df[ii]/f[ii]\n",
    "        return mag,err"
   ]
  },
  {
   "cell_type": "code",
   "execution_count": 9,
   "metadata": {
    "collapsed": true
   },
   "outputs": [],
   "source": [
    "def abmag2nmgy(_b,m):\n",
    "    return 10**(-0.4*(m - 22.5))"
   ]
  },
  {
   "cell_type": "code",
   "execution_count": 10,
   "metadata": {
    "collapsed": true
   },
   "outputs": [],
   "source": [
    "def nmgy2asinhmag(_b,f,df=None):\n",
    "    b = softening_parameter['ugriz'.find(_b)]\n",
    "    mag = -1.0857*(np.arcsinh(1e-9*f/(2*b)) + np.log(b))\n",
    "    if df is None:\n",
    "        return mag\n",
    "    else:\n",
    "        err = 1.0857 * 1e-9*df/(2*b) / np.sqrt(1+((1e-9*f)/(2*b))**2)\n",
    "    return mag,err"
   ]
  },
  {
   "cell_type": "code",
   "execution_count": 11,
   "metadata": {
    "collapsed": true
   },
   "outputs": [],
   "source": [
    "def asinhmag2nmgy(_b,m):\n",
    "    b = softening_parameter['ugriz'.find(_b)]\n",
    "    return 2*b*np.sinh(m/(-1.0857) - np.log(b)) / 1e-9"
   ]
  },
  {
   "cell_type": "code",
   "execution_count": 12,
   "metadata": {
    "collapsed": false
   },
   "outputs": [
    {
     "name": "stdout",
     "output_type": "stream",
     "text": [
      "[  1.65165591   5.76684666   5.31167412 ...,  28.62859344  11.23052311\n",
      "   3.98474002]\n"
     ]
    }
   ],
   "source": [
    "print(tbdata['u_flux'])    # The u-band flux\n",
    "\n",
    "uflux = tbdata['u_flux']\n",
    "gflux = tbdata['g_flux']\n",
    "rflux = tbdata['r_flux']\n",
    "iflux = tbdata['i_flux']\n",
    "zflux = tbdata['z_flux']\n",
    "\n",
    "#print(uflux)\n",
    "#print(type(uflux), len(uflux))\n"
   ]
  },
  {
   "cell_type": "code",
   "execution_count": 13,
   "metadata": {
    "collapsed": false
   },
   "outputs": [
    {
     "name": "stderr",
     "output_type": "stream",
     "text": [
      "/Users/npr1/astroconda/lib/python3.5/site-packages/ipykernel/__main__.py:2: RuntimeWarning: invalid value encountered in greater\n",
      "  from ipykernel import kernelapp as app\n"
     ]
    }
   ],
   "source": [
    "#magAB = np.clip(nmgy2abmag(self.b,f_nmgy),0,magLim)\n",
    "#magAB = np.clip(nmgy2abmag(self.b,f_nmgy),0,magLim)\n",
    "#\n",
    "#vegaMag = nmgy2abmag(self.band,f_nmgy) - self.vegaConv\n",
    "\n",
    "u_band_mag = nmgy2abmag(uflux)\n",
    "g_band_mag = nmgy2abmag(gflux)\n",
    "r_band_mag = nmgy2abmag(rflux)\n",
    "i_band_mag = nmgy2abmag(iflux)\n",
    "z_band_mag = nmgy2abmag(zflux)"
   ]
  },
  {
   "cell_type": "code",
   "execution_count": 30,
   "metadata": {
    "collapsed": false
   },
   "outputs": [],
   "source": [
    "## Regular SDSS Colors!!\n",
    "u_minus_g = u_band_mag  - g_band_mag\n",
    "g_minus_r = g_band_mag  - r_band_mag\n",
    "r_minus_i = r_band_mag  - i_band_mag\n",
    "i_minus_z = i_band_mag  - z_band_mag\n",
    "\n",
    "g_mins_i = g_band_mag  - i_band_mag"
   ]
  },
  {
   "cell_type": "code",
   "execution_count": 31,
   "metadata": {
    "collapsed": false
   },
   "outputs": [],
   "source": [
    "## from Fig 1 of Ross et al. (2012)\n",
    "ug_min = -0.95   \n",
    "ug_max = 4.05\n",
    "gr_min = -0.75\n",
    "gr_max = 2.1"
   ]
  },
  {
   "cell_type": "code",
   "execution_count": 32,
   "metadata": {
    "collapsed": false
   },
   "outputs": [],
   "source": [
    "fig, axs = plt.subplots(ncols=2, sharey=True, figsize=(7, 4))\n",
    "fig.subplots_adjust(hspace=0.5, left=0.07, right=0.93)"
   ]
  },
  {
   "cell_type": "code",
   "execution_count": 39,
   "metadata": {
    "collapsed": true
   },
   "outputs": [],
   "source": [
    "ax = axs[0]\n",
    "hb = ax.hexbin(u_minus_g, g_minus_r, gridsize=5000, cmap='inferno')\n",
    "ax.axis([ug_min, ug_max, gr_min, gr_max])\n",
    "ax.set_title(\"(u-g) vs. (g-r)\")\n",
    "cb = fig.colorbar(hb, ax=ax)\n",
    "cb.set_label('counts')"
   ]
  },
  {
   "cell_type": "code",
   "execution_count": 40,
   "metadata": {
    "collapsed": false
   },
   "outputs": [],
   "source": [
    "ax = axs[1]\n",
    "hb = ax.hexbin(u_minus_g, g_minus_r, gridsize=5000, bins='log', cmap='inferno')\n",
    "ax.axis([ug_min, ug_max, gr_min, gr_max])\n",
    "ax.set_title(\"(u-g) vs. (g-r) (log scale\")\n",
    "cb = fig.colorbar(hb, ax=ax)\n",
    "cb.set_label('log10(N)')"
   ]
  },
  {
   "cell_type": "code",
   "execution_count": 42,
   "metadata": {
    "collapsed": false
   },
   "outputs": [],
   "source": [
    "plt.show()"
   ]
  },
  {
   "cell_type": "code",
   "execution_count": null,
   "metadata": {
    "collapsed": true
   },
   "outputs": [],
   "source": []
  },
  {
   "cell_type": "code",
   "execution_count": null,
   "metadata": {
    "collapsed": true
   },
   "outputs": [],
   "source": []
  }
 ],
 "metadata": {
  "anaconda-cloud": {},
  "kernelspec": {
   "display_name": "Python [default]",
   "language": "python",
   "name": "python3"
  },
  "language_info": {
   "codemirror_mode": {
    "name": "ipython",
    "version": 3
   },
   "file_extension": ".py",
   "mimetype": "text/x-python",
   "name": "python",
   "nbconvert_exporter": "python",
   "pygments_lexer": "ipython3",
   "version": "3.5.2"
  }
 },
 "nbformat": 4,
 "nbformat_minor": 2
}
