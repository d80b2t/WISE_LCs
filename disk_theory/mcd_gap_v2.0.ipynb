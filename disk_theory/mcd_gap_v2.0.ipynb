{
 "cells": [
  {
   "cell_type": "markdown",
   "metadata": {},
   "source": [
    "Hi Nic,\n",
    "\n",
    "Conceptually, my statement comes from assuming the 'big blue bump' continuum comes from a simple multi-color disk model. So, for a standard temperature profile, you just multiply the appropriate blackbodies by the area of the appropriate annulus, add them up, and get an 'emergent spectrum'. Of course there's lots of additional complications but it gives you a good guide to what disk radii are generating what flux. \n",
    "\n",
    "The orbital/dynamical/free-fall timescale is just $(\\Omega)^{-1}$, where $\\Omega$ is the Keplerian frequency at that orbit; the thermal timescale is $(\\alpha \\times \\Omega)^{-1}$, where $\\alpha$ is the 'viscosity' or technically the alpha parameter of a Shakura-Sunyaev disk; the viscous timescale is $(\\alpha \\times \\Omega)^{-1} (H/r)^{-2}$, where $(H/r)$ is the disk aspect ratio.\n",
    "\n",
    "Hope that helps for now!\n"
   ]
  },
  {
   "cell_type": "markdown",
   "metadata": {},
   "source": [
    "To elaborate slightly, if you have a look at Sirko & Goodman 2003, they have a semi-realistic accretion disk model (they have to artificially set a floor on Toomre's $Q$ to keep parts of the disk from fragmenting, the argument being that we see the disks don't generally fragment so... something must be keeping $Q>1$). Their temperature profile is mass and accretion rate dependent, but analytic and proportional to $r^{-3/4}$. \n",
    "\n",
    "I also am attaching a python program I wrote to visualize the impact of various perturbations to the disk on the emergent continuum. It should just run in python with the defaults and spit out a plot of a few different emergent continua (in both .eps and .png files with the plot). \n",
    "\n",
    "If you want to change parameters, they are all set by editing the program--physical inputs and display inputs are commented (and appear between e.g. PHYSICAL INPUTS and END PHYSICAL INPUTS). Basically you can make a gap in the disk that emits zero flux, due to a presumed secondary, lower mass BH, and/or you can magically depress the flux interior to the gap by some fraction. It's quasi-realistic, but gives you a visual feel for how much you have to contort the disk to get substantial flux changes at particular wavelengths (and that's the basis for my prior email statements)."
   ]
  },
  {
   "cell_type": "code",
   "execution_count": 2,
   "metadata": {
    "collapsed": true
   },
   "outputs": [],
   "source": [
    "#! /usr/bin/env python\n",
    "# mcd_gap_v1.py\n",
    "\n",
    "## Plot spectrum of multi-color disk as function of wavelength; allow for gap\n",
    "##   ---Plot multiple spectra with gaps for different mass,\n",
    "##   ---semi-major axis of secondary\n",
    "##   ---artificially depress flux interior to gap"
   ]
  },
  {
   "cell_type": "code",
   "execution_count": 3,
   "metadata": {
    "collapsed": true
   },
   "outputs": [],
   "source": [
    "from pylab import *\n",
    "\n",
    "import sys, os, time, string, math, subprocess\n",
    "import numpy as np\n",
    "import matplotlib.pyplot as plt"
   ]
  },
  {
   "cell_type": "code",
   "execution_count": 4,
   "metadata": {
    "collapsed": true
   },
   "outputs": [],
   "source": [
    "## SI units\n",
    "Msun=1.99e30 #kg per solar mass\n",
    "Rsun=6.95e8 #meters per solar radius\n",
    "G=6.67e-11\n",
    "c=3e8\n",
    "sigma_SB=5.67e-8 #stefan-boltzmann const\n",
    "yr=3.15e7 #seconds per year\n",
    "pc=3.086e16 #meters per parsec\n",
    "AU=1.496e11 #meters per AU\n",
    "h=6.626e-34 #planck const\n",
    "kB=1.38e-23 #boltzmann const\n",
    "m_p=1.67e-27 #mass of proton\n",
    "sigma_T=6.65e-29 #Thomson xsec\n",
    "PI=3.1415926"
   ]
  },
  {
   "cell_type": "markdown",
   "metadata": {},
   "source": [
    "$B_{\\lambda }(\\lambda ,T)={\\frac {2hc^{2}}{\\lambda ^{5}}}{\\frac {1}{e^{\\frac {hc}{\\lambda k_{\\mathrm {B} }T}}-1}}$"
   ]
  },
  {
   "cell_type": "code",
   "execution_count": 5,
   "metadata": {
    "collapsed": true
   },
   "outputs": [],
   "source": [
    "def find_B_lambda(Temp, lam):\n",
    "    ## Planck function\n",
    "    ## BB intensity=2hc^2/lam^5 * 1/(exp(hc/lamkT)-1)\n",
    "    I=(2*h*c**2/pow(lam,5))/(exp(h*c/(lam*kB*Temp))-1)\n",
    "\n",
    "    return I"
   ]
  },
  {
   "cell_type": "markdown",
   "metadata": {},
   "source": [
    "$\\sigma T{^4} =\\frac{3}{8\\pi} \\dot{M} \\Omega{^2}$"
   ]
  },
  {
   "cell_type": "code",
   "execution_count": 6,
   "metadata": {
    "collapsed": true
   },
   "outputs": [],
   "source": [
    "def find_Temp(epsilon,M_SMBH,dotm_edd,radius):\n",
    "\n",
    "    ## find temp as a fn of radius\n",
    "    ## assume sigma_SB T^4=(3/8pi) dotM Omega^2\n",
    "    ## use Omega=sqrt(GM/r^3); \n",
    "    ## put r in units r_g; \n",
    "    ## dotM in units dotM_edd\n",
    "    ## From Sirko & Goodman 2003\n",
    "    \n",
    "    prefactor=pow(((3.0/2.0)*(c**5)*m_p/(epsilon*G*M_SMBH*Msun*sigma_T*sigma_SB)), 0.25)\n",
    "    T=prefactor*pow(dotm_edd, 0.25)*pow(radius,-0.75)\n",
    "\n",
    "    return T\n",
    "\n"
   ]
  },
  {
   "cell_type": "code",
   "execution_count": 8,
   "metadata": {
    "collapsed": true
   },
   "outputs": [],
   "source": [
    "def find_area(r1,r2,r_g):\n",
    "    #find area of annulus\n",
    "    #2pi R deltaR\n",
    "    area=2*PI*r1*r_g*(r2*r_g-r1*r_g)\n",
    "\n",
    "    return area\n"
   ]
  },
  {
   "cell_type": "code",
   "execution_count": 9,
   "metadata": {
    "collapsed": true
   },
   "outputs": [],
   "source": [
    "def find_gap(a_2nd,M_2nd,M_SMBH):\n",
    "    #assume width is 2R_Hill\n",
    "\n",
    "    q=M_2nd/M_SMBH\n",
    "    R_Hill=a_2nd*pow((q/3.0),(1.0/3.0))\n",
    "    \n",
    "    gap_r_in=a_2nd-R_Hill\n",
    "    gap_r_out=a_2nd+R_Hill\n",
    "\n",
    "    return gap_r_in,gap_r_out"
   ]
  },
  {
   "cell_type": "code",
   "execution_count": 10,
   "metadata": {
    "collapsed": true
   },
   "outputs": [],
   "source": [
    "if __name__ == \"__main__\":\n",
    "    #F_lam=sum over all blackbodies, assuming T(r), annuli of area=2piRdeltaR\n",
    "    #integrating over solid angle=pi\n",
    "    #BB intensity=2hc^2/lam^5 * 1/(exp(hc/lamkT)-1)\n",
    "    #log_lam, lam=wavelength range of interest\n",
    "    \n",
    "    #PHYSICAL INPUTS:\n",
    "    #M_SMBH=mass of supermassive black hole in units of solar masses\n",
    "    #controls temperature profile\n",
    "    M_SMBH=3.0e8\n",
    "    #compute r_g for SMBH:\n",
    "    r_g_SMBH=G*M_SMBH*Msun/c**2\n",
    "    #epsilon=radiative efficiency, depends on spin of SMBH, assume 0.1\n",
    "    epsilon=0.1\n",
    "    #dotm_edd=accretion rate in units of Eddington accretion\n",
    "    dotm_edd=0.032\n",
    "    #inner and outer disk radii in units of r_g of SMBH\n",
    "    #(inner radius depends on spin, connect to epsilon later)\n",
    "    radius_in=6.0\n",
    "    radius_out=1.0e4\n",
    "    #a_2nd=semi-major axis/radius of orbit of secondary around SMBH\n",
    "    #units of r_g of SMBH\n",
    "    #a_2nd=[60.0, 2.0e2, 1.0e3]\n",
    "    a_color_cycle=['r','g','b']\n",
    "    a_2nd=[150.0]\n",
    "    #M_2nd=mass of secondary in solar masses\n",
    "    M_2nd=[1.0e2,3.0e1,1.0e1]\n",
    "    #M_2nd=[4.0e6]\n",
    "    #What fraction of flux, compared to a standard disk, is left interior to the gap?\n",
    "    f_depress=0.01\n",
    "    #END PHYSICAL INPUTS\n"
   ]
  },
  {
   "cell_type": "code",
   "execution_count": 14,
   "metadata": {},
   "outputs": [
    {
     "data": {
      "text/plain": [
       "(36.0, 38.0)"
      ]
     },
     "execution_count": 14,
     "metadata": {},
     "output_type": "execute_result"
    }
   ],
   "source": [
    "    #DISPLAY INPUTS: divide display box for graphs\n",
    "    #params for axes\n",
    "    #format=left, bottom, width, height\n",
    "    rect1=0.1,0.1,0.75,0.75\n",
    "    \n",
    "    #make figure\n",
    "    fig1=plt.figure(1)\n",
    "    #add axes & label them\n",
    "    ax1=fig1.add_axes(rect1)\n",
    "    ax1.set_ylabel(r\"$log \\ (\\lambda F_{\\lambda} (arb \\ units))$\")\n",
    "    ax1.set_xlabel(r\"$log \\ (\\lambda (m))$\")\n",
    "    #Title is manual--FIX!!!\n",
    "    ax1.set_title('$Thermal \\ Continuum; \\ q=0.04, \\ 0.01, \\ 0.001$')\n",
    "\n",
    "    #set up range for x-axis\n",
    "    #If want 100nm-10um:\n",
    "    log_lam=np.arange(-8.0, -6.0, 0.01)\n",
    "    #If want x-ray to submm:\n",
    "    #log_lam=np.arange(-9.0, -4.0, 0.01)\n",
    "    lam=pow(10,log_lam)\n",
    "    #range for y-axis\n",
    "    plt.ylim(36.0,38.0)\n",
    "    #END DISPLAY INPUTS\n",
    "    \n"
   ]
  },
  {
   "cell_type": "code",
   "execution_count": 12,
   "metadata": {},
   "outputs": [
    {
     "name": "stderr",
     "output_type": "stream",
     "text": [
      "/Users/npr1/astroconda/lib/python3.5/site-packages/ipykernel/__main__.py:4: RuntimeWarning: overflow encountered in exp\n"
     ]
    }
   ],
   "source": [
    "    #set up y-axis variables\n",
    "    #divvy up disk radii\n",
    "    log_radius=np.arange(log10(radius_in),log10(radius_out),0.01)\n",
    "    radius=pow(10,log_radius)\n",
    "    #make an iterable for multiple 2nd masses & loop\n",
    "    flux_iter_M=[]\n",
    "    for k in range(len(M_2nd)):\n",
    "        #make an iterable for multiple 2nd semi-major axes & loop\n",
    "        flux_iter_a=[]\n",
    "        for j in range(len(a_2nd)):\n",
    "            #initialize final spectrum arrays\n",
    "            F_lam_tot=np.zeros(len(lam))\n",
    "            F_lam_resid=np.zeros(len(lam))\n",
    "            #find width of gap or proto-gap\n",
    "            gap_r_in,gap_r_out=find_gap(a_2nd[j],M_2nd[k],M_SMBH)\n",
    "            #compute temp, area, emitted spectrum at each radius; then sum\n",
    "            for i in range((len(radius)-1)):\n",
    "                Temp=find_Temp(epsilon,M_SMBH,dotm_edd,radius[i])\n",
    "                B_lambda=find_B_lambda(Temp, lam)\n",
    "                Area=find_area(radius[i],radius[i+1],r_g_SMBH)\n",
    "                #flux is pi*A*B_lambda per annulus, pi from integrating over solid angle\n",
    "                F_lam_ann=PI*Area*B_lambda\n",
    "                #if ((radius[i] < gap_r_in) or (radius[i] > gap_r_out)):\n",
    "                if (radius[i] > gap_r_out):\n",
    "                    #only add to total if outside gap\n",
    "                    F_lam_tot=F_lam_tot+F_lam_ann\n",
    "                elif (radius[i] < gap_r_in):\n",
    "                    #if interior to gap, cut flux\n",
    "                    F_lam_tot=F_lam_tot+f_depress*F_lam_ann\n",
    "                    #add missing frac to resid to recover unperturbed spec\n",
    "                    F_lam_resid=F_lam_resid+(1-f_depress)*F_lam_ann\n",
    "                else:\n",
    "                    #otherwise add to residual, so we can reconstruct unperturbed disk\n",
    "                    F_lam_resid=F_lam_resid+F_lam_ann\n",
    "            #take log of total spectrum for plotting, dump to iterables for plotting\n",
    "            log_F_lam=log10(F_lam_tot)\n",
    "            log_lam_F_lam=log10(F_lam_tot*lam)\n",
    "            F_lam_all=F_lam_tot+F_lam_resid\n",
    "            log_lam_F_lam_all=log10(F_lam_all*lam)\n",
    "            flux_iter_a.append(log_lam_F_lam)\n",
    "        flux_iter_M.append(flux_iter_a)\n"
   ]
  },
  {
   "cell_type": "code",
   "execution_count": 15,
   "metadata": {},
   "outputs": [
    {
     "data": {
      "image/png": "[encoded data removed]",
      "text/plain": [
       "<matplotlib.figure.Figure at 0x105f89a58>"
      ]
     },
     "metadata": {},
     "output_type": "display_data"
    }
   ],
   "source": [
    "    #plt.ylim(36.0,38.0)\n",
    "    for k in range(len(M_2nd)):\n",
    "        for j in range(len(a_2nd)):\n",
    "            if len(a_2nd)>1:\n",
    "                ax1.plot(log_lam, flux_iter_M[k][j], color=a_color_cycle[j], ls='dashed', linewidth=2)\n",
    "            else:\n",
    "                ax1.plot(log_lam, flux_iter_M[k][j], color='black', ls='dashed', linewidth=2)\n",
    "    ax1.plot(log_lam, log_lam_F_lam_all, color='black', ls='solid', linewidth=2)\n",
    "\n",
    "    savefig('mcd_gap_v2.eps')\n",
    "    savefig('mcd_gap_v2.png')\n",
    "    show()\n"
   ]
  },
  {
   "cell_type": "code",
   "execution_count": null,
   "metadata": {
    "collapsed": true
   },
   "outputs": [],
   "source": []
  }
 ],
 "metadata": {
  "anaconda-cloud": {},
  "kernelspec": {
   "display_name": "Python [default]",
   "language": "python",
   "name": "python3"
  },
  "language_info": {
   "codemirror_mode": {
    "name": "ipython",
    "version": 3
   },
   "file_extension": ".py",
   "mimetype": "text/x-python",
   "name": "python",
   "nbconvert_exporter": "python",
   "pygments_lexer": "ipython3",
   "version": "3.5.2"
  }
 },
 "nbformat": 4,
 "nbformat_minor": 2
}
