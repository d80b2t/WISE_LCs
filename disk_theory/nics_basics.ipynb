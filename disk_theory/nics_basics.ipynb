{
 "cells": [
  {
   "cell_type": "code",
   "execution_count": 1,
   "metadata": {
    "collapsed": true
   },
   "outputs": [],
   "source": [
    "import numpy as np\n",
    "import math\n",
    "import matplotlib.pyplot as plt"
   ]
  },
  {
   "cell_type": "code",
   "execution_count": 23,
   "metadata": {
    "collapsed": true
   },
   "outputs": [],
   "source": [
    "## SI units\n",
    "Msun=1.99e30     # kg per solar mass\n",
    "Rsun=6.95e8      # meters per solar radius\n",
    "G=6.67e-11       # m^3 kg^-1 s^-2\n",
    "c=3e8            # m s^-1\n",
    "sigma_SB=5.67e-8 # Stefan-Boltzmann const\n",
    "yr=3.15e7        # seconds per year\n",
    "pc=3.086e16      # meters per parsec\n",
    "AU=1.49598e11    # meters per AU,  149597870700\n",
    "h=6.626e-34      # Planck const\n",
    "kB=1.38e-23      # Boltzmann const\n",
    "m_p=1.67e-27     # mass of proton\n",
    "sigma_T=6.65e-29 # Thomson cross-section\n",
    "pi=3.1415926"
   ]
  },
  {
   "cell_type": "code",
   "execution_count": 24,
   "metadata": {},
   "outputs": [],
   "source": [
    "## Physical values, that of course can change. \n",
    "M = 1e8 * Msun"
   ]
  },
  {
   "cell_type": "code",
   "execution_count": 25,
   "metadata": {},
   "outputs": [],
   "source": [
    "r_ISCO = (6*G*M)/(c**2)\n",
    "r_g = (G*M)/(c**2)"
   ]
  },
  {
   "cell_type": "code",
   "execution_count": 26,
   "metadata": {},
   "outputs": [
    {
     "name": "stdout",
     "output_type": "stream",
     "text": [
      "R_ISCO 884886666666.6666\n",
      "r_g 147481111111.1111\n"
     ]
    }
   ],
   "source": [
    "print('R_ISCO', r_ISCO) \n",
    "print('r_g', r_g) "
   ]
  },
  {
   "cell_type": "code",
   "execution_count": 27,
   "metadata": {},
   "outputs": [
    {
     "name": "stdout",
     "output_type": "stream",
     "text": [
      "5.91509690414756\n",
      "0.9858494840245934\n"
     ]
    }
   ],
   "source": [
    "print(r_ISCO/AU)\n",
    "print(r_g/AU)"
   ]
  },
  {
   "cell_type": "code",
   "execution_count": 35,
   "metadata": {},
   "outputs": [
    {
     "name": "stdout",
     "output_type": "stream",
     "text": [
      "0.00201643535918238\n"
     ]
    }
   ],
   "source": [
    "##  maximum accretion disk temperature\n",
    "f = 0.5\n",
    "Mdot = 0.1\n",
    "R_in = 6 * r_g\n",
    "\n",
    "T_max = f * ((3.* G * M * Mdot)/(8.*pi*(R_in**3)*sigma_SB ))\n",
    "print(T_max)"
   ]
  },
  {
   "cell_type": "code",
   "execution_count": 36,
   "metadata": {},
   "outputs": [
    {
     "name": "stdout",
     "output_type": "stream",
     "text": [
      "5.24028340639235e-07\n"
     ]
    }
   ],
   "source": [
    "M8 = M\n",
    "M_Edd = 1.0\n",
    "eta = 1.0\n",
    "T_max  = 5.6e5 * (M8**(-1/4)) * ((Mdot/M_Edd)**1/4) * ((eta/0.1)**(-1/4)) * ((R_in/(6*r_g))**(-3/4)) * (f/2)\n",
    "print(T_max)"
   ]
  },
  {
   "cell_type": "code",
   "execution_count": null,
   "metadata": {
    "collapsed": true
   },
   "outputs": [],
   "source": []
  }
 ],
 "metadata": {
  "anaconda-cloud": {},
  "kernelspec": {
   "display_name": "Python [default]",
   "language": "python",
   "name": "python3"
  },
  "language_info": {
   "codemirror_mode": {
    "name": "ipython",
    "version": 3
   },
   "file_extension": ".py",
   "mimetype": "text/x-python",
   "name": "python",
   "nbconvert_exporter": "python",
   "pygments_lexer": "ipython3",
   "version": "3.5.2"
  }
 },
 "nbformat": 4,
 "nbformat_minor": 2
}
